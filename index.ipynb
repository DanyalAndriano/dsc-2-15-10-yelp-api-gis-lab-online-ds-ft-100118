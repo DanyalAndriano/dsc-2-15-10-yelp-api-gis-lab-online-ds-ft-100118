{
 "cells": [
  {
   "cell_type": "markdown",
   "metadata": {},
   "source": [
    "# Building a Simple GIS with Yelp API and Folium - Lab\n",
    "\n",
    "## Introduction \n",
    "\n",
    "So we have learned quite a bit about APIs and how they are now big buzzword in the tech industry. Think of it as a protocol for how to make requests and communicate with another server. We have seen how to mine Twitter for getting text data and apply basic frequency based NLP techniques to get some insight. \n",
    "\n",
    "One of the key aspects of being a data scientist is the ability to learn how a new API works, how to go through its specific authentication process (OAuth) and how to process the data structures that get returned as a response to our requests. It is a good practice to spend some time learning the API through the official documentation before sending in requests. \n",
    "\n",
    "On these lines, this lab requires you to learn another popular API (YELP Fusion) by following the provided detailed online documentation. We shall build a simple Geographical Information System (GIS) using the data from yelp."
   ]
  },
  {
   "cell_type": "markdown",
   "metadata": {},
   "source": [
    "## Objectives\n",
    "You will be able to: \n",
    "* Successfully sign up for Yelp API \n",
    "* Create HTTP requests to get data from Yelp API\n",
    "* Parse HTTP responses and perform data analysis on the data returned\n",
    "* Create a simple geographical system on to view information about selected businesses, at a given location. \n"
   ]
  },
  {
   "cell_type": "markdown",
   "metadata": {},
   "source": [
    "## The Yelp Fusion API - v3\n",
    "\n",
    "\n",
    "### Point your browser over to this [yelp page](https://www.yelp.com/developers/v3/manage_app) and create an app in order to obtain  `client_id` and `api_key` tokens. \n",
    "\n",
    "**NOTE:** You will be required to sign up using Google or Facebook etc. if you dont already have an account.\n",
    "\n",
    "<img src=\"yelp_app.png\" width=500>\n",
    "\n"
   ]
  },
  {
   "cell_type": "markdown",
   "metadata": {},
   "source": [
    "After registration, you'll be presented with your account information and limits of your access. For Yelp, or any other API for that reason, you need to make sure that you dont surpass your request quota, otherwise, you may end up getting banned in some cases. Yelp shows this information to you as below:\n",
    "\n",
    "<img src=\"quota.png\" width=500>"
   ]
  },
  {
   "cell_type": "markdown",
   "metadata": {},
   "source": [
    "### Save your api_key and client_id in the variables below:"
   ]
  },
  {
   "cell_type": "code",
   "execution_count": 1,
   "metadata": {},
   "outputs": [],
   "source": [
    "import operator \n",
    "import json\n",
    "from collections import Counter\n",
    "import pandas as pd\n",
    "import nltk\n",
    "from nltk import bigrams"
   ]
  },
  {
   "cell_type": "code",
   "execution_count": 2,
   "metadata": {},
   "outputs": [],
   "source": [
    "with open('') as f:\n",
    "    d = json.load(f)\n",
    "    client_id = d['client_id']\n",
    "    api_key = d['api_key']\n",
    "    "
   ]
  },
  {
   "cell_type": "markdown",
   "metadata": {},
   "source": [
    "## The `yelpapi` "
   ]
  },
  {
   "cell_type": "markdown",
   "metadata": {},
   "source": [
    "The yelpapi is a pure Python implementation of the Yelp Fusion API (aka Yelp v3 API). It is simple, fast, and robust to any changes Yelp may make to the API in the future. See tha basic usage of this library on the [official Github repo](https://github.com/gfairchild/yelpapi). You may look out for other APIs to achieve this but for this lesson, we shall use it for sake of simplicity. \n",
    "\n",
    "First you must pip install the library"
   ]
  },
  {
   "cell_type": "code",
   "execution_count": 3,
   "metadata": {},
   "outputs": [],
   "source": [
    "#!pip install yelpapi"
   ]
  },
  {
   "cell_type": "markdown",
   "metadata": {},
   "source": [
    "### Import `yelpapi ` into working environment and pass in the api_key as shown in the Github Repo "
   ]
  },
  {
   "cell_type": "code",
   "execution_count": 4,
   "metadata": {},
   "outputs": [],
   "source": [
    "# Code here\n",
    "from yelpapi import YelpAPI\n",
    "yelp_api = YelpAPI(api_key, timeout_s=3.0)\n"
   ]
  },
  {
   "cell_type": "markdown",
   "metadata": {},
   "source": [
    "### The Api request and response\n",
    "\n",
    "Great so we can now start making API calls using the format:\n",
    "```python\n",
    "response = yelp_api.search_query(term =<search term>, \n",
    "                                 location=<search location>, \n",
    "                                 sort_by='rating', \n",
    "                                 limit=50)\n",
    "```\n",
    "We can pass in a lot more arguments to refine our search. [Here is a complete list of options that search API provides us](https://www.yelp.com/developers/documentation/v3/business_search)\n",
    "\n",
    "* Make an API request using a simple criteria location and term\n",
    "* save the response as `response` \n",
    "* inspect the type and contents of `response`."
   ]
  },
  {
   "cell_type": "code",
   "execution_count": 5,
   "metadata": {},
   "outputs": [],
   "source": [
    "## Pass in a spcific term and location to make a call. \n",
    "#response = yelp_api.search_query(term =<term>,\n",
    "#                               location=<location>)\n",
    "# For this example, we are looking for chinese food in London.\n",
    "\n",
    "term = 'Spur'\n",
    "location = 'Australia'"
   ]
  },
  {
   "cell_type": "code",
   "execution_count": 6,
   "metadata": {},
   "outputs": [
    {
     "name": "stdout",
     "output_type": "stream",
     "text": [
      "{'businesses': [{'id': 'mHOjAxa9S8eBLXKPiOupZg', 'alias': 'silver-spur-steak-ranch-penrith', 'name': 'Silver Spur Steak Ranch', 'image_url': 'https://s3-media3.fl.yelpcdn.com/bphoto/YMz5f-9KF8HwktODKJCglQ/o.jpg', 'is_closed': False, 'url': 'https://www.yelp.com/biz/silver-spur-steak-ranch-penrith?adjust_creative=5e9xC0TBE581R5tL4N2iKg&utm_campaign=yelp_api_v3&utm_medium=api_v3_business_search&utm_source=5e9xC0TBE581R5tL4N2iKg', 'review_count': 5, 'categories': [{'alias': 'steak', 'title': 'Steakhouses'}], 'rating': 4.5, 'coordinates': {'latitude': -33.7598104065338, 'longitude': 150.684002253079}, 'transactions': [], 'price': '$$', 'location': {'address1': '123 Mulgoa Rd', 'address2': None, 'address3': None, 'city': 'Penrith', 'zip_code': '2750', 'country': 'AU', 'state': 'NSW', 'display_address': ['123 Mulgoa Rd', 'Penrith New South Wales 2750', 'Australia']}, 'phone': '+61247321700', 'display_phone': '+61 2 4732 1700', 'distance': 49098.16984607218}, {'id': 'eItrrZqEyl23w005JFiIHg', 'alias': 'mustang-spur-campbelltown-4', 'name': 'Mustang Spur', 'image_url': 'https://s3-media1.fl.yelpcdn.com/bphoto/xfrOV00EXPKMrZFRTzXfYQ/o.jpg', 'is_closed': False, 'url': 'https://www.yelp.com/biz/mustang-spur-campbelltown-4?adjust_creative=5e9xC0TBE581R5tL4N2iKg&utm_campaign=yelp_api_v3&utm_medium=api_v3_business_search&utm_source=5e9xC0TBE581R5tL4N2iKg', 'review_count': 3, 'categories': [{'alias': 'steak', 'title': 'Steakhouses'}, {'alias': 'tradamerican', 'title': 'American (Traditional)'}], 'rating': 1.0, 'coordinates': {'latitude': -34.073042, 'longitude': 150.797335}, 'transactions': [], 'price': '$$$', 'location': {'address1': '38 Level 1 Kellicar Rd Campbelltown 2560 NSW', 'address2': 'Shop 37', 'address3': '', 'city': 'Campbelltown', 'zip_code': '2560', 'country': 'AU', 'state': 'NSW', 'display_address': ['38 Level 1 Kellicar Rd Campbelltown 2560 NSW', 'Shop 37', 'Campbelltown New South Wales 2560', 'Australia']}, 'phone': '+61246271255', 'display_phone': '+61 2 4627 1255', 'distance': 43081.56436735579}, {'id': 'JOES9r9YK2kFPF7JdW6TJQ', 'alias': 'spur-campbelltown', 'name': 'Spur', 'image_url': '', 'is_closed': False, 'url': 'https://www.yelp.com/biz/spur-campbelltown?adjust_creative=5e9xC0TBE581R5tL4N2iKg&utm_campaign=yelp_api_v3&utm_medium=api_v3_business_search&utm_source=5e9xC0TBE581R5tL4N2iKg', 'review_count': 1, 'categories': [{'alias': 'steak', 'title': 'Steakhouses'}], 'rating': 1.0, 'coordinates': {'latitude': -34.076943, 'longitude': 150.790614}, 'transactions': [], 'location': {'address1': 'Shop 37/38', 'address2': 'Level 1, Gilchrist Dr', 'address3': '', 'city': 'Campbelltown', 'zip_code': '2560', 'country': 'AU', 'state': 'NSW', 'display_address': ['Shop 37/38', 'Level 1, Gilchrist Dr', 'Campbelltown New South Wales 2560', 'Australia']}, 'phone': '+61246271255', 'display_phone': '+61 2 4627 1255', 'distance': 43893.738315514434}, {'id': 'xYiGsPaQ0K5_Eut_kK7uMA', 'alias': 'sydney-opera-house-sydney', 'name': 'Sydney Opera House', 'image_url': 'https://s3-media2.fl.yelpcdn.com/bphoto/DTZHKV_MWTxWTMeQ3HvYAQ/o.jpg', 'is_closed': False, 'url': 'https://www.yelp.com/biz/sydney-opera-house-sydney?adjust_creative=5e9xC0TBE581R5tL4N2iKg&utm_campaign=yelp_api_v3&utm_medium=api_v3_business_search&utm_source=5e9xC0TBE581R5tL4N2iKg', 'review_count': 269, 'categories': [{'alias': 'venues', 'title': 'Venues & Event Spaces'}, {'alias': 'landmarks', 'title': 'Landmarks & Historical Buildings'}, {'alias': 'theater', 'title': 'Performing Arts'}], 'rating': 4.5, 'coordinates': {'latitude': -33.857123, 'longitude': 151.215016}, 'transactions': [], 'location': {'address1': 'Bennelong Point', 'address2': '', 'address3': None, 'city': 'Sydney', 'zip_code': '2000', 'country': 'AU', 'state': 'NSW', 'display_address': ['Bennelong Point', 'Sydney New South Wales 2000', 'Australia']}, 'phone': '+61292507111', 'display_phone': '+61 2 9250 7111', 'distance': 2407.580264308644}, {'id': 'hWWTjpSIAjXCdSrwrEKydw', 'alias': 'the-bank-hotel-newtown', 'name': 'The Bank Hotel', 'image_url': 'https://s3-media3.fl.yelpcdn.com/bphoto/roy566JpT8RPwKQDQYt-LQ/o.jpg', 'is_closed': False, 'url': 'https://www.yelp.com/biz/the-bank-hotel-newtown?adjust_creative=5e9xC0TBE581R5tL4N2iKg&utm_campaign=yelp_api_v3&utm_medium=api_v3_business_search&utm_source=5e9xC0TBE581R5tL4N2iKg', 'review_count': 27, 'categories': [{'alias': 'bars', 'title': 'Bars'}, {'alias': 'restaurants', 'title': 'Restaurants'}], 'rating': 3.5, 'coordinates': {'latitude': -33.897591, 'longitude': 151.178909}, 'transactions': [], 'price': '$$', 'location': {'address1': '324 King St', 'address2': None, 'address3': None, 'city': 'Newtown', 'zip_code': '2042', 'country': 'AU', 'state': 'NSW', 'display_address': ['324 King St', 'Newtown New South Wales 2042', 'Australia']}, 'phone': '+61285681900', 'display_phone': '+61 2 8568 1900', 'distance': 3210.4393446430945}, {'id': '5UQB_vUK-KTfmBKwwo8oLA', 'alias': 'fish-on-fire-glebe', 'name': 'Fish on Fire', 'image_url': 'https://s3-media3.fl.yelpcdn.com/bphoto/c_pnT2HosWUFzNgwiVZtvg/o.jpg', 'is_closed': False, 'url': 'https://www.yelp.com/biz/fish-on-fire-glebe?adjust_creative=5e9xC0TBE581R5tL4N2iKg&utm_campaign=yelp_api_v3&utm_medium=api_v3_business_search&utm_source=5e9xC0TBE581R5tL4N2iKg', 'review_count': 11, 'categories': [{'alias': 'hotdogs', 'title': 'Fast Food'}, {'alias': 'seafood', 'title': 'Seafood'}, {'alias': 'coffee', 'title': 'Coffee & Tea'}], 'rating': 4.0, 'coordinates': {'latitude': -33.879949, 'longitude': 151.18725}, 'transactions': [], 'price': '$', 'location': {'address1': '217a Glebe Point Rd', 'address2': None, 'address3': None, 'city': 'Glebe', 'zip_code': '2037', 'country': 'AU', 'state': 'NSW', 'display_address': ['217a Glebe Point Rd', 'Glebe New South Wales 2037', 'Australia']}, 'phone': '+61296604212', 'display_phone': '+61 2 9660 4212', 'distance': 1212.938120387998}, {'id': 'MF_BNcChrOay8KTNjZ6C-w', 'alias': 'clover-cafe-annandale', 'name': 'Clover Cafe', 'image_url': 'https://s3-media1.fl.yelpcdn.com/bphoto/ZwOnChp9-RpWqjodYonn8A/o.jpg', 'is_closed': False, 'url': 'https://www.yelp.com/biz/clover-cafe-annandale?adjust_creative=5e9xC0TBE581R5tL4N2iKg&utm_campaign=yelp_api_v3&utm_medium=api_v3_business_search&utm_source=5e9xC0TBE581R5tL4N2iKg', 'review_count': 13, 'categories': [{'alias': 'coffee', 'title': 'Coffee & Tea'}, {'alias': 'breakfast_brunch', 'title': 'Breakfast & Brunch'}], 'rating': 3.5, 'coordinates': {'latitude': -33.881281, 'longitude': 151.169872}, 'transactions': [], 'price': '$$', 'location': {'address1': '78 Booth St', 'address2': '', 'address3': '', 'city': 'Annandale', 'zip_code': '2038', 'country': 'AU', 'state': 'NSW', 'display_address': ['78 Booth St', 'Annandale New South Wales 2038', 'Australia']}, 'phone': '+61295718988', 'display_phone': '+61 2 9571 8988', 'distance': 2712.991888459576}, {'id': '7Gl1kmOzFZV-b9uuq3pReg', 'alias': 'corellis-cafe-gallery-newtown', 'name': 'Corellis Cafe Gallery', 'image_url': 'https://s3-media2.fl.yelpcdn.com/bphoto/N2QG0PsSPk_baxIRw6cPxw/o.jpg', 'is_closed': False, 'url': 'https://www.yelp.com/biz/corellis-cafe-gallery-newtown?adjust_creative=5e9xC0TBE581R5tL4N2iKg&utm_campaign=yelp_api_v3&utm_medium=api_v3_business_search&utm_source=5e9xC0TBE581R5tL4N2iKg', 'review_count': 19, 'categories': [{'alias': 'restaurants', 'title': 'Restaurants'}, {'alias': 'coffee', 'title': 'Coffee & Tea'}], 'rating': 3.0, 'coordinates': {'latitude': -33.898651, 'longitude': 151.178143}, 'transactions': [], 'price': '$$', 'location': {'address1': '352 King St', 'address2': None, 'address3': None, 'city': 'Newtown', 'zip_code': '2042', 'country': 'AU', 'state': 'NSW', 'display_address': ['352 King St', 'Newtown New South Wales 2042', 'Australia']}, 'phone': '+61295504080', 'display_phone': '+61 2 9550 4080', 'distance': 3347.831174718432}, {'id': 'XDznMeMj83mR_pgypzMyqA', 'alias': 'mad-pizza-e-bar-bondi', 'name': 'Mad Pizza e Bar', 'image_url': 'https://s3-media1.fl.yelpcdn.com/bphoto/jVarWsPK5U9PTtx8lc3wtw/o.jpg', 'is_closed': False, 'url': 'https://www.yelp.com/biz/mad-pizza-e-bar-bondi?adjust_creative=5e9xC0TBE581R5tL4N2iKg&utm_campaign=yelp_api_v3&utm_medium=api_v3_business_search&utm_source=5e9xC0TBE581R5tL4N2iKg', 'review_count': 8, 'categories': [{'alias': 'pizza', 'title': 'Pizza'}, {'alias': 'italian', 'title': 'Italian'}, {'alias': 'bars', 'title': 'Bars'}], 'rating': 3.5, 'coordinates': {'latitude': -33.889089, 'longitude': 151.271043}, 'transactions': [], 'price': '$$', 'location': {'address1': \"15 O' Brien St\", 'address2': '', 'address3': '', 'city': 'Bondi', 'zip_code': '2026', 'country': 'AU', 'state': 'NSW', 'display_address': [\"15 O' Brien St\", 'Bondi New South Wales 2026', 'Australia']}, 'phone': '+61293006787', 'display_phone': '+61 2 9300 6787', 'distance': 7002.486190135045}], 'total': 10, 'region': {'center': {'longitude': 151.19762420654297, 'latitude': -33.873255402727054}}}\n"
     ]
    }
   ],
   "source": [
    "# Make an API call using chosen term and location\n",
    "response = yelp_api.search_query(term=term, location=location, sort_by='rating', limit=40)\n",
    "type(response)\n",
    "print(response)\n",
    "\n"
   ]
  },
  {
   "cell_type": "markdown",
   "metadata": {},
   "source": [
    "### JSON .. again ! \n",
    "\n",
    "We have a nice nifty little return now! As you can see, the contents of the response is formatted as a string but what kind of data structures does this remind you of?  \n",
    "\n",
    "To start there's the outer curly brackets:  \n",
    "\n",
    "#### {\"businesses\":   \n",
    "\n",
    "Hopefully you're thinking 'hey that's just like a python dictionary!'\n",
    "\n",
    "Then within that we have what appears to be a list of dictionaries:  \n",
    "\n",
    "#### {\"id\": \"jeWIYbgBho9vBDhc5S1xvg\",\n",
    "\n",
    "This response is an example of a JSON (JavaScript Object Notation) format that we've seen so many times before. We can simply treat it as a dictionary and process it further. "
   ]
  },
  {
   "cell_type": "markdown",
   "metadata": {},
   "source": [
    "### Inspect the values for all the keys in the response"
   ]
  },
  {
   "cell_type": "code",
   "execution_count": 7,
   "metadata": {},
   "outputs": [
    {
     "name": "stdout",
     "output_type": "stream",
     "text": [
      "<class 'str'>\n",
      "<class 'str'>\n",
      "<class 'str'>\n"
     ]
    }
   ],
   "source": [
    "# inspect the key value pairs to understand the strcuture of data \n",
    "for key in response.keys():\n",
    "    print(type(key))\n",
    "\n"
   ]
  },
  {
   "cell_type": "markdown",
   "metadata": {},
   "source": [
    "Whoops, what's going on here!? Well, notice from our previous preview of the response that we saw there were a hierarhcy within the response. Let's begin to investigate further to see what the problem is.\n",
    "\n",
    "First, recall that the overall strucutre of the response was a dictionary. Let's look at what the keys are:"
   ]
  },
  {
   "cell_type": "code",
   "execution_count": 8,
   "metadata": {},
   "outputs": [
    {
     "data": {
      "text/plain": [
       "dict_keys(['businesses', 'total', 'region'])"
      ]
     },
     "execution_count": 8,
     "metadata": {},
     "output_type": "execute_result"
    }
   ],
   "source": [
    "response.keys()"
   ]
  },
  {
   "cell_type": "markdown",
   "metadata": {},
   "source": [
    "Consult the Yelp API and learn what value is carried in each key. \n",
    "\n",
    "#### Continue to preview these keys  further to get a little better acquainted. "
   ]
  },
  {
   "cell_type": "code",
   "execution_count": 9,
   "metadata": {},
   "outputs": [
    {
     "name": "stdout",
     "output_type": "stream",
     "text": [
      "BUSINESS: {'id': 'mHOjAxa9S8eBLXKPiOupZg', 'alias': 'silver-spur-steak-ranch-penrith', 'name': 'Silver Spur Steak Ranch', 'image_url': 'https://s3-media3.fl.yelpcdn.com/bphoto/YMz5f-9KF8HwktODKJCglQ/o.jpg', 'is_closed': False, 'url': 'https://www.yelp.com/biz/silver-spur-steak-ranch-penrith?adjust_creative=5e9xC0TBE581R5tL4N2iKg&utm_campaign=yelp_api_v3&utm_medium=api_v3_business_search&utm_source=5e9xC0TBE581R5tL4N2iKg', 'review_count': 5, 'categories': [{'alias': 'steak', 'title': 'Steakhouses'}], 'rating': 4.5, 'coordinates': {'latitude': -33.7598104065338, 'longitude': 150.684002253079}, 'transactions': [], 'price': '$$', 'location': {'address1': '123 Mulgoa Rd', 'address2': None, 'address3': None, 'city': 'Penrith', 'zip_code': '2750', 'country': 'AU', 'state': 'NSW', 'display_address': ['123 Mulgoa Rd', 'Penrith New South Wales 2750', 'Australia']}, 'phone': '+61247321700', 'display_phone': '+61 2 4732 1700', 'distance': 49098.16984607218}\n",
      " \n",
      "REGION: {'center': {'longitude': 151.19762420654297, 'latitude': -33.873255402727054}}\n",
      " \n",
      "TOTAL : 10\n"
     ]
    }
   ],
   "source": [
    "print('BUSINESS:', response['businesses'][0])\n",
    "print(\" \")\n",
    "print('REGION:', response['region'])\n",
    "print(\" \")\n",
    "print('TOTAL :',response['total'])"
   ]
  },
  {
   "cell_type": "markdown",
   "metadata": {},
   "source": [
    "This makes more sense, so we are mainly interested in the `businesses` for our needs. \n",
    "\n",
    "### Print the names of businesses and included ratings "
   ]
  },
  {
   "cell_type": "code",
   "execution_count": 10,
   "metadata": {},
   "outputs": [
    {
     "name": "stdout",
     "output_type": "stream",
     "text": [
      "Name: Silver Spur Steak Ranch\n",
      "Rating: 4.5\n",
      "Name: Mustang Spur\n",
      "Rating: 1.0\n",
      "Name: Spur\n",
      "Rating: 1.0\n",
      "Name: Sydney Opera House\n",
      "Rating: 4.5\n",
      "Name: The Bank Hotel\n",
      "Rating: 3.5\n",
      "Name: Fish on Fire\n",
      "Rating: 4.0\n",
      "Name: Clover Cafe\n",
      "Rating: 3.5\n",
      "Name: Corellis Cafe Gallery\n",
      "Rating: 3.0\n",
      "Name: Mad Pizza e Bar\n",
      "Rating: 3.5\n"
     ]
    }
   ],
   "source": [
    "# Code here \n",
    "for business in response['businesses']:\n",
    "    print(\"Name: {}\".format (business['name']))\n",
    "    print(\"Rating: {}\".format (business['rating']))"
   ]
  },
  {
   "cell_type": "markdown",
   "metadata": {},
   "source": [
    "Great, now are are getting somewhere. It is a good idea at this stage to store this information as a dataframe for processing further. \n",
    "### Create a Pandas dataframe for contents of `businesses`\n",
    "* Check the number of records in the dataframe\n",
    "* Inspect the columns and head"
   ]
  },
  {
   "cell_type": "code",
   "execution_count": 14,
   "metadata": {
    "scrolled": false
   },
   "outputs": [
    {
     "data": {
      "text/html": [
       "<div>\n",
       "<style scoped>\n",
       "    .dataframe tbody tr th:only-of-type {\n",
       "        vertical-align: middle;\n",
       "    }\n",
       "\n",
       "    .dataframe tbody tr th {\n",
       "        vertical-align: top;\n",
       "    }\n",
       "\n",
       "    .dataframe thead th {\n",
       "        text-align: right;\n",
       "    }\n",
       "</style>\n",
       "<table border=\"1\" class=\"dataframe\">\n",
       "  <thead>\n",
       "    <tr style=\"text-align: right;\">\n",
       "      <th></th>\n",
       "      <th>alias</th>\n",
       "      <th>categories</th>\n",
       "      <th>coordinates</th>\n",
       "      <th>display_phone</th>\n",
       "      <th>distance</th>\n",
       "      <th>id</th>\n",
       "      <th>image_url</th>\n",
       "      <th>is_closed</th>\n",
       "      <th>location</th>\n",
       "      <th>name</th>\n",
       "      <th>phone</th>\n",
       "      <th>price</th>\n",
       "      <th>rating</th>\n",
       "      <th>review_count</th>\n",
       "      <th>transactions</th>\n",
       "      <th>url</th>\n",
       "    </tr>\n",
       "  </thead>\n",
       "  <tbody>\n",
       "    <tr>\n",
       "      <th>0</th>\n",
       "      <td>silver-spur-steak-ranch-penrith</td>\n",
       "      <td>[{'alias': 'steak', 'title': 'Steakhouses'}]</td>\n",
       "      <td>{'latitude': -33.7598104065338, 'longitude': 1...</td>\n",
       "      <td>+61 2 4732 1700</td>\n",
       "      <td>49098.169846</td>\n",
       "      <td>mHOjAxa9S8eBLXKPiOupZg</td>\n",
       "      <td>https://s3-media3.fl.yelpcdn.com/bphoto/YMz5f-...</td>\n",
       "      <td>False</td>\n",
       "      <td>{'address1': '123 Mulgoa Rd', 'address2': None...</td>\n",
       "      <td>Silver Spur Steak Ranch</td>\n",
       "      <td>+61247321700</td>\n",
       "      <td>$$</td>\n",
       "      <td>4.5</td>\n",
       "      <td>5</td>\n",
       "      <td>[]</td>\n",
       "      <td>https://www.yelp.com/biz/silver-spur-steak-ran...</td>\n",
       "    </tr>\n",
       "    <tr>\n",
       "      <th>1</th>\n",
       "      <td>mustang-spur-campbelltown-4</td>\n",
       "      <td>[{'alias': 'steak', 'title': 'Steakhouses'}, {...</td>\n",
       "      <td>{'latitude': -34.073042, 'longitude': 150.797335}</td>\n",
       "      <td>+61 2 4627 1255</td>\n",
       "      <td>43081.564367</td>\n",
       "      <td>eItrrZqEyl23w005JFiIHg</td>\n",
       "      <td>https://s3-media1.fl.yelpcdn.com/bphoto/xfrOV0...</td>\n",
       "      <td>False</td>\n",
       "      <td>{'address1': '38 Level 1 Kellicar Rd Campbellt...</td>\n",
       "      <td>Mustang Spur</td>\n",
       "      <td>+61246271255</td>\n",
       "      <td>$$$</td>\n",
       "      <td>1.0</td>\n",
       "      <td>3</td>\n",
       "      <td>[]</td>\n",
       "      <td>https://www.yelp.com/biz/mustang-spur-campbell...</td>\n",
       "    </tr>\n",
       "    <tr>\n",
       "      <th>2</th>\n",
       "      <td>spur-campbelltown</td>\n",
       "      <td>[{'alias': 'steak', 'title': 'Steakhouses'}]</td>\n",
       "      <td>{'latitude': -34.076943, 'longitude': 150.790614}</td>\n",
       "      <td>+61 2 4627 1255</td>\n",
       "      <td>43893.738316</td>\n",
       "      <td>JOES9r9YK2kFPF7JdW6TJQ</td>\n",
       "      <td></td>\n",
       "      <td>False</td>\n",
       "      <td>{'address1': 'Shop 37/38', 'address2': 'Level ...</td>\n",
       "      <td>Spur</td>\n",
       "      <td>+61246271255</td>\n",
       "      <td>NaN</td>\n",
       "      <td>1.0</td>\n",
       "      <td>1</td>\n",
       "      <td>[]</td>\n",
       "      <td>https://www.yelp.com/biz/spur-campbelltown?adj...</td>\n",
       "    </tr>\n",
       "    <tr>\n",
       "      <th>3</th>\n",
       "      <td>sydney-opera-house-sydney</td>\n",
       "      <td>[{'alias': 'venues', 'title': 'Venues &amp; Event ...</td>\n",
       "      <td>{'latitude': -33.857123, 'longitude': 151.215016}</td>\n",
       "      <td>+61 2 9250 7111</td>\n",
       "      <td>2407.580264</td>\n",
       "      <td>xYiGsPaQ0K5_Eut_kK7uMA</td>\n",
       "      <td>https://s3-media2.fl.yelpcdn.com/bphoto/DTZHKV...</td>\n",
       "      <td>False</td>\n",
       "      <td>{'address1': 'Bennelong Point', 'address2': ''...</td>\n",
       "      <td>Sydney Opera House</td>\n",
       "      <td>+61292507111</td>\n",
       "      <td>NaN</td>\n",
       "      <td>4.5</td>\n",
       "      <td>269</td>\n",
       "      <td>[]</td>\n",
       "      <td>https://www.yelp.com/biz/sydney-opera-house-sy...</td>\n",
       "    </tr>\n",
       "    <tr>\n",
       "      <th>4</th>\n",
       "      <td>the-bank-hotel-newtown</td>\n",
       "      <td>[{'alias': 'bars', 'title': 'Bars'}, {'alias':...</td>\n",
       "      <td>{'latitude': -33.897591, 'longitude': 151.178909}</td>\n",
       "      <td>+61 2 8568 1900</td>\n",
       "      <td>3210.439345</td>\n",
       "      <td>hWWTjpSIAjXCdSrwrEKydw</td>\n",
       "      <td>https://s3-media3.fl.yelpcdn.com/bphoto/roy566...</td>\n",
       "      <td>False</td>\n",
       "      <td>{'address1': '324 King St', 'address2': None, ...</td>\n",
       "      <td>The Bank Hotel</td>\n",
       "      <td>+61285681900</td>\n",
       "      <td>$$</td>\n",
       "      <td>3.5</td>\n",
       "      <td>27</td>\n",
       "      <td>[]</td>\n",
       "      <td>https://www.yelp.com/biz/the-bank-hotel-newtow...</td>\n",
       "    </tr>\n",
       "  </tbody>\n",
       "</table>\n",
       "</div>"
      ],
      "text/plain": [
       "                             alias  \\\n",
       "0  silver-spur-steak-ranch-penrith   \n",
       "1      mustang-spur-campbelltown-4   \n",
       "2                spur-campbelltown   \n",
       "3        sydney-opera-house-sydney   \n",
       "4           the-bank-hotel-newtown   \n",
       "\n",
       "                                          categories  \\\n",
       "0       [{'alias': 'steak', 'title': 'Steakhouses'}]   \n",
       "1  [{'alias': 'steak', 'title': 'Steakhouses'}, {...   \n",
       "2       [{'alias': 'steak', 'title': 'Steakhouses'}]   \n",
       "3  [{'alias': 'venues', 'title': 'Venues & Event ...   \n",
       "4  [{'alias': 'bars', 'title': 'Bars'}, {'alias':...   \n",
       "\n",
       "                                         coordinates    display_phone  \\\n",
       "0  {'latitude': -33.7598104065338, 'longitude': 1...  +61 2 4732 1700   \n",
       "1  {'latitude': -34.073042, 'longitude': 150.797335}  +61 2 4627 1255   \n",
       "2  {'latitude': -34.076943, 'longitude': 150.790614}  +61 2 4627 1255   \n",
       "3  {'latitude': -33.857123, 'longitude': 151.215016}  +61 2 9250 7111   \n",
       "4  {'latitude': -33.897591, 'longitude': 151.178909}  +61 2 8568 1900   \n",
       "\n",
       "       distance                      id  \\\n",
       "0  49098.169846  mHOjAxa9S8eBLXKPiOupZg   \n",
       "1  43081.564367  eItrrZqEyl23w005JFiIHg   \n",
       "2  43893.738316  JOES9r9YK2kFPF7JdW6TJQ   \n",
       "3   2407.580264  xYiGsPaQ0K5_Eut_kK7uMA   \n",
       "4   3210.439345  hWWTjpSIAjXCdSrwrEKydw   \n",
       "\n",
       "                                           image_url  is_closed  \\\n",
       "0  https://s3-media3.fl.yelpcdn.com/bphoto/YMz5f-...      False   \n",
       "1  https://s3-media1.fl.yelpcdn.com/bphoto/xfrOV0...      False   \n",
       "2                                                         False   \n",
       "3  https://s3-media2.fl.yelpcdn.com/bphoto/DTZHKV...      False   \n",
       "4  https://s3-media3.fl.yelpcdn.com/bphoto/roy566...      False   \n",
       "\n",
       "                                            location                     name  \\\n",
       "0  {'address1': '123 Mulgoa Rd', 'address2': None...  Silver Spur Steak Ranch   \n",
       "1  {'address1': '38 Level 1 Kellicar Rd Campbellt...             Mustang Spur   \n",
       "2  {'address1': 'Shop 37/38', 'address2': 'Level ...                     Spur   \n",
       "3  {'address1': 'Bennelong Point', 'address2': ''...       Sydney Opera House   \n",
       "4  {'address1': '324 King St', 'address2': None, ...           The Bank Hotel   \n",
       "\n",
       "          phone price  rating  review_count transactions  \\\n",
       "0  +61247321700    $$     4.5             5           []   \n",
       "1  +61246271255   $$$     1.0             3           []   \n",
       "2  +61246271255   NaN     1.0             1           []   \n",
       "3  +61292507111   NaN     4.5           269           []   \n",
       "4  +61285681900    $$     3.5            27           []   \n",
       "\n",
       "                                                 url  \n",
       "0  https://www.yelp.com/biz/silver-spur-steak-ran...  \n",
       "1  https://www.yelp.com/biz/mustang-spur-campbell...  \n",
       "2  https://www.yelp.com/biz/spur-campbelltown?adj...  \n",
       "3  https://www.yelp.com/biz/sydney-opera-house-sy...  \n",
       "4  https://www.yelp.com/biz/the-bank-hotel-newtow...  "
      ]
     },
     "execution_count": 14,
     "metadata": {},
     "output_type": "execute_result"
    }
   ],
   "source": [
    "# Code here \n",
    "spur_aus = pd.DataFrame.from_dict(response['businesses'])\n",
    "spur_aus.head()"
   ]
  },
  {
   "cell_type": "markdown",
   "metadata": {},
   "source": [
    "This is fantastic. We have successfully learned a new API , made requests to it, recieved and studied the response and stored the results in a dataframe and can now enjoy all the goodness of Pandas. Thats quite a bit of data engineering. \n",
    "\n",
    "### Visualize the location from search query\n",
    "The `region` key in the response carries the geographical information for the region searched.\n",
    "* Get the latitude / longitude information from `region`\n",
    "* Create a folium map with these coordinates. \n",
    "* Use a zoom start value = 13"
   ]
  },
  {
   "cell_type": "code",
   "execution_count": 42,
   "metadata": {
    "scrolled": false
   },
   "outputs": [
    {
     "data": {
      "text/html": [
       "<div style=\"width:100%;\"><div style=\"position:relative;width:100%;height:0;padding-bottom:60%;\"><iframe src=\"data:text/html;charset=utf-8;base64,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\" style=\"position:absolute;width:100%;height:100%;left:0;top:0;border:none !important;\" allowfullscreen webkitallowfullscreen mozallowfullscreen></iframe></div></div>"
      ],
      "text/plain": [
       "<folium.folium.Map at 0x23034268c50>"
      ]
     },
     "execution_count": 42,
     "metadata": {},
     "output_type": "execute_result"
    }
   ],
   "source": [
    "import folium\n",
    "\n",
    "lat_long = response['region']['center']\n",
    "lat = lat_long['latitude']\n",
    "long = lat_long['longitude']\n",
    "\n",
    "aus_map = folium.Map([lat, long], zoom_start=8)\n",
    "aus_map\n",
    "# Code here"
   ]
  },
  {
   "cell_type": "markdown",
   "metadata": {},
   "source": [
    "Expected Output:\n",
    "![](london.png)"
   ]
  },
  {
   "cell_type": "markdown",
   "metadata": {},
   "source": [
    "Nice. We can now extract the coordinate information for each business and plot it on this map.\n",
    "\n",
    "### Get the business coordinates from dataframe for each business and plot on the map above"
   ]
  },
  {
   "cell_type": "code",
   "execution_count": 57,
   "metadata": {
    "scrolled": false
   },
   "outputs": [
    {
     "data": {
      "text/html": [
       "<div style=\"width:100%;\"><div style=\"position:relative;width:100%;height:0;padding-bottom:60%;\"><iframe src=\"data:text/html;charset=utf-8;base64,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\" style=\"position:absolute;width:100%;height:100%;left:0;top:0;border:none !important;\" allowfullscreen webkitallowfullscreen mozallowfullscreen></iframe></div></div>"
      ],
      "text/plain": [
       "<folium.folium.Map at 0x23034268c50>"
      ]
     },
     "execution_count": 57,
     "metadata": {},
     "output_type": "execute_result"
    }
   ],
   "source": [
    "# Code here \n",
    "#coordinates = []\n",
    "for business in response['businesses']:\n",
    "    lat = business['coordinates']['latitude']\n",
    "    #print(lat)\n",
    "    long = business['coordinates']['longitude']\n",
    "\n",
    "\n",
    "    marker = folium.Marker(location=[lat, long])\n",
    "    marker.add_to(aus_map)\n",
    "aus_map"
   ]
  },
  {
   "cell_type": "markdown",
   "metadata": {},
   "source": [
    "Expected output:\n",
    "![](markers.png)"
   ]
  },
  {
   "cell_type": "markdown",
   "metadata": {},
   "source": [
    "Kool so we have everything in place but the visualization is still not very *Informative* so to speak. You can't tell which marker represents which business and also other information on business like rating, cost, links to user reviews etc. is still not visible. SO its geographical , but not exactly an Information System yet as you cant make any decisions on this information.  Here's as example of what it possible can look like\n",
    "![](out.png)\n"
   ]
  },
  {
   "cell_type": "markdown",
   "metadata": {},
   "source": [
    "For this you need to understand `folium.popup()` which let's you click on a marker to show a pop up window. This window acts more like an HTML page so you can easily format the information you present in the popup using following values:\n",
    "* The official business logo/image:  `image_url`\n",
    "* Name of the Business: `name`\n",
    "* Price (how expensive): `price`\n",
    "* Links to user reviews on Yelp: `url`\n",
    "\n",
    "Doing this in HTML is not required , so we recommend that you first try to put in basic information in the popups as just text. As a next stage , you can start changing into HTML code to make it visually more appealing.\n",
    "\n",
    "### Attempt to recreate the interactive visualization shown above.\n",
    "\n",
    "Here's a good resource with code examples on [how to create folium popups](https://github.com/python-visualization/folium/blob/master/examples/Popups.ipynb)"
   ]
  },
  {
   "cell_type": "code",
   "execution_count": 63,
   "metadata": {},
   "outputs": [
    {
     "data": {
      "text/html": [
       "<div style=\"width:100%;\"><div style=\"position:relative;width:100%;height:0;padding-bottom:60%;\"><iframe src=\"data:text/html;charset=utf-8;base64,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\" style=\"position:absolute;width:100%;height:100%;left:0;top:0;border:none !important;\" allowfullscreen webkitallowfullscreen mozallowfullscreen></iframe></div></div>"
      ],
      "text/plain": [
       "<folium.folium.Map at 0x23034268c50>"
      ]
     },
     "execution_count": 63,
     "metadata": {},
     "output_type": "execute_result"
    }
   ],
   "source": [
    "from folium import IFrame\n",
    "\n",
    "for row in spur_aus.index:\n",
    "    \n",
    "    lat_long = spur_aus['coordinates'][row]\n",
    "    lat = lat_long['latitude']\n",
    "    long = lat_long['longitude']\n",
    "\n",
    "    name = 'Business Name: ' + str(spur_aus['name'][row])\n",
    "    rating = 'Rating: ' + str(spur_aus['rating'][row])\n",
    "    price = 'Price: ' + str(spur_aus['price'][row])\n",
    "\n",
    "    img = spur_aus['image_url'][row]\n",
    "    txt = folium.Html('<head><style> body {background-image: url('+ img+ ');\\\n",
    "                        background-color: rgba(255,255,255,0.6);background-blend-mode: lighten;\\\n",
    "                        background-position: center; background-repeat: no-repeat; background-size: cover;}</style></head>' +\n",
    "                      '<H2><center><font color=\"black\">' + str(spur_aus['name'][row]) + '</H2></center>' +\\\n",
    "                      '<B><center>Rating: </B>' + str(spur_aus['rating'][row]) + '/ 5</br></center>' +\\\n",
    "                      '<B><center>Price: </B>' + str(spur_aus['price'][row]) + '</br></center>' +\\\n",
    "                      '<center><a href='+ str(spur_aus['url'][row])+ ' target=\"_blank\">Read Reviews</b></a></br></br></center>' + \\\n",
    "                      '<small>Searching for '+ term + ' in ' + location, script=True)\n",
    "\n",
    "    iframe = folium.IFrame(txt, width=400, height=150)\n",
    "    popup = folium.Popup(iframe, max_width=3000)\n",
    "    Text = folium.Marker(location=[lat,long], popup=popup,icon=folium.Icon(icon_color='green'))\n",
    "    aus_map.add_child(Text)\n",
    "\n",
    "aus_map"
   ]
  },
  {
   "cell_type": "markdown",
   "metadata": {},
   "source": [
    "Wow . An Interactive Geographical information System backed by live data through API calling. \n",
    "\n",
    "<img src=\"star.jpg\" width=300>\n",
    "\n",
    "### More APIs to Checkout\n",
    "\n",
    "* Google Maps\n",
    "* Twitter\n",
    "* AWS\n",
    "* IBM's Watson\n",
    "* Yelp"
   ]
  },
  {
   "cell_type": "markdown",
   "metadata": {},
   "source": [
    "## Summary \n",
    "\n",
    "In this lab, we learned how to use the Yelp API with authentication, making calls, understanding the responses and creating interactive geographical visualizations in Folium. We encourage you to re-visit this lab again once you have studied some important machine learning algorithms to make predictions , find similarities, group/cluster businesses or classify them based on user criteria. "
   ]
  }
 ],
 "metadata": {
  "kernelspec": {
   "display_name": "learn-env",
   "language": "python",
   "name": "learn-env"
  },
  "language_info": {
   "codemirror_mode": {
    "name": "ipython",
    "version": 3
   },
   "file_extension": ".py",
   "mimetype": "text/x-python",
   "name": "python",
   "nbconvert_exporter": "python",
   "pygments_lexer": "ipython3",
   "version": "3.6.6"
  }
 },
 "nbformat": 4,
 "nbformat_minor": 2
}
